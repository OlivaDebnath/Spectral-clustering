{
  "nbformat": 4,
  "nbformat_minor": 0,
  "metadata": {
    "colab": {
      "provenance": []
    },
    "kernelspec": {
      "name": "python3",
      "display_name": "Python 3"
    },
    "language_info": {
      "name": "python"
    }
  },
  "cells": [
    {
      "cell_type": "code",
      "execution_count": 2,
      "metadata": {
        "colab": {
          "base_uri": "https://localhost:8080/"
        },
        "id": "mZiaEutQMZqH",
        "outputId": "eb1637bd-1cbd-4c93-f171-953475c674bc"
      },
      "outputs": [
        {
          "output_type": "stream",
          "name": "stdout",
          "text": [
            "(1199, 10)\n"
          ]
        }
      ],
      "source": [
        "import numpy as np\n",
        "from sklearn.metrics.pairwise import rbf_kernel\n",
        "import pandas as pd\n",
        "\n",
        "\n",
        "data = pd.read_csv('data.csv')\n",
        "print(data.shape)"
      ]
    },
    {
      "cell_type": "code",
      "source": [
        "from sklearn.metrics.pairwise import euclidean_distances\n",
        "# Compute pairwise Euclidean distances\n",
        "print(\"Pairwise-euclidean distances\")\n",
        "distances = euclidean_distances(data)\n",
        "print(distances)\n",
        "\n",
        "# Create similarity matrix\n",
        "print(\"\")\n",
        "print(\"The similarity matrix is as follows:\")\n",
        "similarity_matrix = np.exp(-distances ** 2 / (2 * np.median(distances) ** 2))\n",
        "print(similarity_matrix)"
      ],
      "metadata": {
        "id": "V9LG9hYXMahQ",
        "colab": {
          "base_uri": "https://localhost:8080/"
        },
        "outputId": "4a9e2ff7-9bbd-4d32-adf1-caae6e5e6d3a"
      },
      "execution_count": 8,
      "outputs": [
        {
          "output_type": "stream",
          "name": "stdout",
          "text": [
            "Pairwise-euclidean distances\n",
            "[[0.         2.55321047 1.28491948 ... 2.35400784 2.95822089 3.02254211]\n",
            " [2.55321047 0.         2.45589395 ... 0.48878187 0.91783996 0.81913286]\n",
            " [1.28491948 2.45589395 0.         ... 2.31467907 2.8495437  2.97139086]\n",
            " ...\n",
            " [2.35400784 0.48878187 2.31467907 ... 0.         1.07927509 0.94287448]\n",
            " [2.95822089 0.91783996 2.8495437  ... 1.07927509 0.         0.84881266]\n",
            " [3.02254211 0.81913286 2.97139086 ... 0.94287448 0.84881266 0.        ]]\n",
            "\n",
            "The similarity matrix is as follows:\n",
            "[[1.         0.26517316 0.7144948  ... 0.32357388 0.16831986 0.15563845]\n",
            " [0.26517316 1.         0.29284434 ... 0.95251799 0.84237056 0.87229782]\n",
            " [0.7144948  0.29284434 1.         ... 0.33590044 0.19140373 0.16566454]\n",
            " ...\n",
            " [0.32357388 0.95251799 0.33590044 ... 1.         0.78884681 0.83441843]\n",
            " [0.16831986 0.84237056 0.19140373 ... 0.78884681 1.         0.86354919]\n",
            " [0.15563845 0.87229782 0.16566454 ... 0.83441843 0.86354919 1.        ]]\n"
          ]
        }
      ]
    },
    {
      "cell_type": "code",
      "source": [
        "# Compute degree matrix\n",
        "print(\"Printing the degree matrix \")\n",
        "degree_matrix = np.diag(np.sum(similarity_matrix, axis=1))\n",
        "print(degree_matrix)\n",
        "print(\"\")\n",
        "\n",
        "# Compute Laplacian matrix\n",
        "print(\"Printing the laplacian matrix \")\n",
        "laplacian_matrix = degree_matrix - similarity_matrix\n",
        "print(laplacian_matrix)\n",
        "print(\"laplacian matrix printed\")"
      ],
      "metadata": {
        "id": "RLLwUgBnMh2h",
        "colab": {
          "base_uri": "https://localhost:8080/"
        },
        "outputId": "883863cb-4ccc-495b-85b8-ae9b6ad1eda1"
      },
      "execution_count": 13,
      "outputs": [
        {
          "output_type": "stream",
          "name": "stdout",
          "text": [
            "Printing the degree matrix \n",
            "[[512.97743832   0.           0.         ...   0.           0.\n",
            "    0.        ]\n",
            " [  0.         778.27691037   0.         ...   0.           0.\n",
            "    0.        ]\n",
            " [  0.           0.         505.98795913 ...   0.           0.\n",
            "    0.        ]\n",
            " ...\n",
            " [  0.           0.           0.         ... 794.95832305   0.\n",
            "    0.        ]\n",
            " [  0.           0.           0.         ...   0.         764.07285623\n",
            "    0.        ]\n",
            " [  0.           0.           0.         ...   0.           0.\n",
            "  701.58724021]]\n",
            "\n",
            "Printing the laplacian matrix \n",
            "[[ 5.11977438e+02 -2.65173164e-01 -7.14494795e-01 ... -3.23573877e-01\n",
            "  -1.68319862e-01 -1.55638452e-01]\n",
            " [-2.65173164e-01  7.77276910e+02 -2.92844340e-01 ... -9.52517992e-01\n",
            "  -8.42370563e-01 -8.72297822e-01]\n",
            " [-7.14494795e-01 -2.92844340e-01  5.04987959e+02 ... -3.35900435e-01\n",
            "  -1.91403732e-01 -1.65664538e-01]\n",
            " ...\n",
            " [-3.23573877e-01 -9.52517992e-01 -3.35900435e-01 ...  7.93958323e+02\n",
            "  -7.88846814e-01 -8.34418430e-01]\n",
            " [-1.68319862e-01 -8.42370563e-01 -1.91403732e-01 ... -7.88846814e-01\n",
            "   7.63072856e+02 -8.63549192e-01]\n",
            " [-1.55638452e-01 -8.72297822e-01 -1.65664538e-01 ... -8.34418430e-01\n",
            "  -8.63549192e-01  7.00587240e+02]]\n",
            "laplacian matrix printed\n"
          ]
        }
      ]
    },
    {
      "cell_type": "code",
      "source": [
        "# Compute eigenvectors and eigenvalues\n",
        "eigenvalues, eigenvectors = np.linalg.eig(laplacian_matrix)\n",
        "print(\"Computing Eigen values and eigen vectors from the laplacian matrix\")\n",
        "# Sort eigenvectors and eigenvalues\n",
        "sorted_indices = np.argsort(eigenvalues)\n",
        "print(\"Eigen values are\")\n",
        "eigenvalues = eigenvalues[sorted_indices]\n",
        "print(eigenvalues)\n",
        "print(\"\")\n",
        "print(\"Eigen vectors are:\")\n",
        "eigenvectors = eigenvectors[:, sorted_indices]\n",
        "print(eigenvectors)\n",
        "\n"
      ],
      "metadata": {
        "id": "0uEfzsxtM1LV",
        "colab": {
          "base_uri": "https://localhost:8080/"
        },
        "outputId": "287eaa44-f020-42af-c5ca-82e3baa457ae"
      },
      "execution_count": 10,
      "outputs": [
        {
          "output_type": "stream",
          "name": "stdout",
          "text": [
            "Computing Eigen values and eigen vectors from the laplacian matrix\n",
            "Eigen values are\n",
            "[-1.17662791e-12 -1.11642603e-14  3.31755020e-13 ...  8.63576961e+02\n",
            "  8.65206129e+02  8.67143491e+02]\n",
            "\n",
            "Eigen vectors are:\n",
            "[[-1.03601430e-16 -2.89036657e-02 -2.29234990e-16 ... -1.96365632e-05\n",
            "  -8.94201499e-05 -1.07590559e-04]\n",
            " [-1.80615588e-17 -2.89036657e-02  5.64991844e-17 ...  5.89178888e-05\n",
            "  -7.88403573e-04 -6.89402720e-04]\n",
            " [-4.63299564e-17 -2.89036657e-02 -2.77341555e-17 ...  3.21093927e-05\n",
            "  -1.51818831e-04 -9.05045813e-05]\n",
            " ...\n",
            " [-2.01347001e-17 -2.89036657e-02  1.75432666e-17 ... -1.27789039e-04\n",
            "  -8.29770436e-04 -9.79182672e-04]\n",
            " [-2.07567808e-17 -2.89036657e-02  3.00545836e-17 ...  1.33184266e-04\n",
            "  -6.66267707e-04 -5.88058743e-04]\n",
            " [-3.26162446e-17 -2.89036657e-02  1.99071124e-18 ...  3.15098516e-06\n",
            "  -1.29858601e-04 -1.51623711e-04]]\n"
          ]
        }
      ]
    },
    {
      "cell_type": "code",
      "source": [
        "# Determine number of clusters\n",
        "k = 3  # Number of clusters\n",
        "from sklearn.cluster import KMeans\n",
        "# Cluster data points using K-means\n",
        "kmeans = KMeans(n_clusters=k, random_state=42)\n",
        "projection = eigenvectors[:, 1:k+1]\n",
        "cluster_assignments = kmeans.fit_predict(projection)\n",
        "\n",
        "# Identify outliers\n",
        "outliers = []\n",
        "for cluster_idx in range(k):\n",
        "    cluster_data = data[cluster_assignments == cluster_idx]\n",
        "    cluster_center = np.mean(cluster_data, axis=0)\n",
        "    cluster_distances = np.linalg.norm(cluster_data - cluster_center, axis=1)\n",
        "    threshold = np.percentile(cluster_distances, 98)  # Adjust percentile as 98 % \n",
        "    cluster_outliers = np.where(cluster_distances > threshold)[0]\n",
        "    outliers.extend(cluster_outliers)\n",
        "\n",
        "outliers = np.array(outliers)\n",
        "print(f\"total number of outliers =\",outliers.size)\n",
        "print(\"Outliers:\", outliers)\n"
      ],
      "metadata": {
        "id": "qtLBPgqRNb_3",
        "colab": {
          "base_uri": "https://localhost:8080/"
        },
        "outputId": "91ec9b4e-0e44-4b8f-866c-e84d8592eb14"
      },
      "execution_count": 6,
      "outputs": [
        {
          "output_type": "stream",
          "name": "stderr",
          "text": [
            "/usr/local/lib/python3.10/dist-packages/sklearn/cluster/_kmeans.py:870: FutureWarning: The default value of `n_init` will change from 10 to 'auto' in 1.4. Set the value of `n_init` explicitly to suppress the warning\n",
            "  warnings.warn(\n"
          ]
        },
        {
          "output_type": "stream",
          "name": "stdout",
          "text": [
            "total number of outliers = 24\n",
            "Outliers: [  25   44  113  158  201  224  248  277  340  435  494  503  525  609\n",
            "  623  671  696  898 1003 1026 1042 1109 1119 1181]\n"
          ]
        }
      ]
    },
    {
      "cell_type": "code",
      "source": [],
      "metadata": {
        "id": "fFfI_Bx_N55N"
      },
      "execution_count": null,
      "outputs": []
    }
  ]
}